{
 "cells": [
  {
   "cell_type": "markdown",
   "id": "402c4a45",
   "metadata": {},
   "source": [
    "### Seaborn Line Plot"
   ]
  },
  {
   "cell_type": "code",
   "execution_count": 1,
   "id": "855e0d40",
   "metadata": {},
   "outputs": [],
   "source": [
    "import seaborn as sns\n",
    "from matplotlib import pyplot as plt"
   ]
  },
  {
   "cell_type": "markdown",
   "id": "3fee26bf",
   "metadata": {},
   "source": [
    "fmri = sns.load_dataset('fmri')\n",
    "fmri.head()"
   ]
  },
  {
   "cell_type": "markdown",
   "id": "d55b8dbe",
   "metadata": {},
   "source": [
    "sns.lineplot(x = 'timepoint', y = 'signal', data = fmri)\n",
    "plt.show()"
   ]
  },
  {
   "cell_type": "code",
   "execution_count": null,
   "id": "13f8a0eb",
   "metadata": {},
   "outputs": [],
   "source": []
  }
 ],
 "metadata": {
  "kernelspec": {
   "display_name": "Python 3 (ipykernel)",
   "language": "python",
   "name": "python3"
  },
  "language_info": {
   "codemirror_mode": {
    "name": "ipython",
    "version": 3
   },
   "file_extension": ".py",
   "mimetype": "text/x-python",
   "name": "python",
   "nbconvert_exporter": "python",
   "pygments_lexer": "ipython3",
   "version": "3.9.13"
  }
 },
 "nbformat": 4,
 "nbformat_minor": 5
}
