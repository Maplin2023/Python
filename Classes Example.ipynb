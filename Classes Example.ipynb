{
 "cells": [
  {
   "cell_type": "code",
   "execution_count": 6,
   "id": "60f70185",
   "metadata": {},
   "outputs": [],
   "source": [
    "class Run:\n",
    "    def __init__(self):\n",
    "        self.miles = 4\n",
    "        self.races = 5\n",
    "    def run(self):\n",
    "        if self.miles == 4:\n",
    "            return self.miles\n",
    "        self.races == 8\n",
    "        return self.races * self.miles\n",
    "        "
   ]
  },
  {
   "cell_type": "code",
   "execution_count": 7,
   "id": "2f695ea3",
   "metadata": {},
   "outputs": [],
   "source": [
    "turbo = Run()"
   ]
  },
  {
   "cell_type": "code",
   "execution_count": 9,
   "id": "f59a2e45",
   "metadata": {},
   "outputs": [
    {
     "data": {
      "text/plain": [
       "4"
      ]
     },
     "execution_count": 9,
     "metadata": {},
     "output_type": "execute_result"
    }
   ],
   "source": [
    "turbo.run()"
   ]
  },
  {
   "cell_type": "code",
   "execution_count": 12,
   "id": "852175c7",
   "metadata": {},
   "outputs": [],
   "source": [
    "turbo = Run()"
   ]
  },
  {
   "cell_type": "code",
   "execution_count": 13,
   "id": "5434d1a1",
   "metadata": {},
   "outputs": [],
   "source": [
    "turbo.Runmiles = 8"
   ]
  },
  {
   "cell_type": "code",
   "execution_count": 14,
   "id": "8c50788b",
   "metadata": {},
   "outputs": [
    {
     "name": "stdout",
     "output_type": "stream",
     "text": [
      "4\n"
     ]
    }
   ],
   "source": [
    "print(turbo.run())"
   ]
  },
  {
   "cell_type": "code",
   "execution_count": 16,
   "id": "aa00a7e5",
   "metadata": {},
   "outputs": [
    {
     "data": {
      "text/plain": [
       "8"
      ]
     },
     "execution_count": 16,
     "metadata": {},
     "output_type": "execute_result"
    }
   ],
   "source": [
    "turbo.Runmiles"
   ]
  },
  {
   "cell_type": "code",
   "execution_count": 17,
   "id": "3f2b7e08",
   "metadata": {},
   "outputs": [
    {
     "data": {
      "text/plain": [
       "4"
      ]
     },
     "execution_count": 17,
     "metadata": {},
     "output_type": "execute_result"
    }
   ],
   "source": [
    "turbo.miles"
   ]
  },
  {
   "cell_type": "code",
   "execution_count": null,
   "id": "005990d7",
   "metadata": {},
   "outputs": [],
   "source": []
  }
 ],
 "metadata": {
  "kernelspec": {
   "display_name": "Python 3 (ipykernel)",
   "language": "python",
   "name": "python3"
  },
  "language_info": {
   "codemirror_mode": {
    "name": "ipython",
    "version": 3
   },
   "file_extension": ".py",
   "mimetype": "text/x-python",
   "name": "python",
   "nbconvert_exporter": "python",
   "pygments_lexer": "ipython3",
   "version": "3.9.13"
  }
 },
 "nbformat": 4,
 "nbformat_minor": 5
}
