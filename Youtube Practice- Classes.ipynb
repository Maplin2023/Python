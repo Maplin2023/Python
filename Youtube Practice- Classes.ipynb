{
 "cells": [
  {
   "cell_type": "code",
   "execution_count": 3,
   "id": "c9201232",
   "metadata": {},
   "outputs": [
    {
     "name": "stdout",
     "output_type": "stream",
     "text": [
      "Hi I am  Sam\n",
      "I am eligible to vote\n"
     ]
    }
   ],
   "source": [
    "class Person:\n",
    "    def __init__(self):\n",
    "        self.name = 'Sam'\n",
    "        self.gender = 'Male'\n",
    "        self.age = 22\n",
    "    def talk(self):\n",
    "        print('Hi I am ', self.name)\n",
    "    def vote(self):\n",
    "        if self.age < 18:\n",
    "            print(' Iam not eligible to vote')\n",
    "        else:\n",
    "            print('I am eligible to vote')\n",
    "obj = Person()\n",
    "Person.talk(obj)\n",
    "Person.vote(obj)"
   ]
  },
  {
   "cell_type": "code",
   "execution_count": 5,
   "id": "177f4d2a",
   "metadata": {},
   "outputs": [
    {
     "name": "stdout",
     "output_type": "stream",
     "text": [
      "Hi I am  Sam\n",
      "I am eligible to vote\n"
     ]
    }
   ],
   "source": [
    "obj.talk()\n",
    "obj.vote()"
   ]
  },
  {
   "cell_type": "code",
   "execution_count": null,
   "id": "d0835e01",
   "metadata": {},
   "outputs": [],
   "source": [
    "### Alternatively"
   ]
  },
  {
   "cell_type": "code",
   "execution_count": 6,
   "id": "7536f3c9",
   "metadata": {},
   "outputs": [
    {
     "name": "stdout",
     "output_type": "stream",
     "text": [
      "Sam Jesse\n"
     ]
    }
   ],
   "source": [
    "class Person:\n",
    "    def __init__(self,n,g,a):\n",
    "        self.name = n\n",
    "        self.gender = g\n",
    "        self.age = a\n",
    "    def talk(self):\n",
    "        print('Hi I am ', self.name)\n",
    "    def vote(self):\n",
    "        if self.age < 18:\n",
    "            print(' Iam not eligible to vote')\n",
    "        else:\n",
    "            print('I am eligible to vote')\n",
    "            \n",
    "obj1 = Person('Sam', 'Male', 22)\n",
    "obj2 = Person('Jesse', 'Female',16 )\n",
    "print(obj1.name, obj2.name)"
   ]
  },
  {
   "cell_type": "code",
   "execution_count": 8,
   "id": "a1b830fd",
   "metadata": {},
   "outputs": [
    {
     "name": "stdout",
     "output_type": "stream",
     "text": [
      "Hi I am  Sam\n",
      "I am eligible to vote\n",
      "Hi I am  Jesse\n",
      " Iam not eligible to vote\n"
     ]
    }
   ],
   "source": [
    "obj1.talk()\n",
    "obj1.vote()\n",
    "\n",
    "obj2.talk()\n",
    "obj2.vote()"
   ]
  },
  {
   "cell_type": "code",
   "execution_count": null,
   "id": "b9932b76",
   "metadata": {},
   "outputs": [],
   "source": []
  }
 ],
 "metadata": {
  "kernelspec": {
   "display_name": "Python 3 (ipykernel)",
   "language": "python",
   "name": "python3"
  },
  "language_info": {
   "codemirror_mode": {
    "name": "ipython",
    "version": 3
   },
   "file_extension": ".py",
   "mimetype": "text/x-python",
   "name": "python",
   "nbconvert_exporter": "python",
   "pygments_lexer": "ipython3",
   "version": "3.9.13"
  }
 },
 "nbformat": 4,
 "nbformat_minor": 5
}
